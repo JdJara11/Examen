{
  "nbformat": 4,
  "nbformat_minor": 0,
  "metadata": {
    "colab": {
      "provenance": [],
      "authorship_tag": "ABX9TyNphaGQafZA3SdFE8f5re4W"
    },
    "kernelspec": {
      "name": "python3",
      "display_name": "Python 3"
    },
    "language_info": {
      "name": "python"
    }
  },
  "cells": [
    {
      "cell_type": "markdown",
      "source": [
        "###Pregunta A"
      ],
      "metadata": {
        "id": "ZONqdhVOvJfl"
      }
    },
    {
      "cell_type": "code",
      "execution_count": 100,
      "metadata": {
        "colab": {
          "base_uri": "https://localhost:8080/"
        },
        "id": "uHH2M26PtuAM",
        "outputId": "de21f9cb-e811-45c9-e1b0-7e7782dcafb3"
      },
      "outputs": [
        {
          "output_type": "stream",
          "name": "stdout",
          "text": [
            "teclado mouse\n"
          ]
        }
      ],
      "source": [
        "#Definimos una lista llamada elementos\n",
        "elementos = [\"teclado\",\"mouse\",\"pantalla\",\"audifonos\"]\n",
        "\n",
        "#Creamos una nueva lista a almacenar\n",
        "nuevo_elemento = []\n",
        "\n",
        "#creamos la funcion con el parametro elementos\n",
        "def llamarElementos(elementos):\n",
        "  #Creamos el bucle a iterar con rango en 2 para que solo haga 2 recorridos\n",
        "  for i in range(2):\n",
        "    #Utilizamos la nueva lista que va a recibir los datos\n",
        "    nuevo_elemento.append(elementos[i])\n",
        "  #Imprimimos los datos\n",
        "  print(nuevo_elemento[0],nuevo_elemento[1])\n",
        "\n",
        "#llamamos la función\n",
        "llamarElementos(elementos)\n",
        "\n"
      ]
    },
    {
      "cell_type": "markdown",
      "source": [
        "###Pregunta B"
      ],
      "metadata": {
        "id": "1eDAxBlwxKaK"
      }
    },
    {
      "cell_type": "code",
      "source": [
        "#definimos el diccionario en la variable diccionario\n",
        "diccionario = [\"teclado\",\"mouse\",\"pantalla\",{\"Ciudad\":\"Medellin\", \"Carrera\":\"ADSO\", \"Sede\":\"Sena\", \"Color\":\"rojo\"}]\n",
        "#Imprimimos la posición 3 en la lista la cual contiene un diccionario\n",
        "print(diccionario[3])"
      ],
      "metadata": {
        "colab": {
          "base_uri": "https://localhost:8080/"
        },
        "id": "E85JODEqxJ5D",
        "outputId": "be3b1688-88c6-4805-fb49-e02fa902323d"
      },
      "execution_count": 17,
      "outputs": [
        {
          "output_type": "stream",
          "name": "stdout",
          "text": [
            "{'Ciudad': 'Medellin', 'Carrera': 'ADSO', 'Sede': 'Sena', 'Color': 'rojo'}\n"
          ]
        }
      ]
    },
    {
      "cell_type": "markdown",
      "source": [
        "###Pregunta C"
      ],
      "metadata": {
        "id": "8mtloBNDygPp"
      }
    },
    {
      "cell_type": "markdown",
      "source": [
        "Los bucles o loopers son estructuras que se utilizan para evitar la repetición de código, da como resultado valores de verdad es decir verdadero o falso, permite la optimización de los recursos."
      ],
      "metadata": {
        "id": "e94V2NnwzGfY"
      }
    },
    {
      "cell_type": "code",
      "source": [
        "#Definimos la lista en la variable ejemplos\n",
        "ejemplos = [\"casa\",\"carro\",\"televisor\",\"cama\"]\n",
        "\n",
        "#Aqui para que se imprima cada uno de los elementos de la lista\n",
        "#sin necesidad de llamar el print varias veces de cada posición\n",
        "#utilizamos el bucle for para que se haga por cada uno de los elementos de la lista\n",
        "\n",
        "for ejemplo in ejemplos:\n",
        "  print(ejemplo)"
      ],
      "metadata": {
        "colab": {
          "base_uri": "https://localhost:8080/"
        },
        "id": "DFZlniJWyiYB",
        "outputId": "9abf1e5b-eb37-4591-d9a9-b8b243b1af1e"
      },
      "execution_count": 18,
      "outputs": [
        {
          "output_type": "stream",
          "name": "stdout",
          "text": [
            "casa\n",
            "carro\n",
            "televisor\n",
            "cama\n"
          ]
        }
      ]
    },
    {
      "cell_type": "markdown",
      "source": [
        "###Pregunta D"
      ],
      "metadata": {
        "id": "Z5zPoX7K1kw3"
      }
    },
    {
      "cell_type": "code",
      "source": [
        "#Nos presentan un lista que se llama personas, las cuales tienn como contenido diccionarios con nombres y numeros de la persona\n",
        "people = [\n",
        "    {\"name\": \"Carter\", \"number\": \"+1-617-495-1000\"},\n",
        "    {\"name\": \"David\", \"number\": \"+1-617-495-1000\"},\n",
        "    {\"name\": \"John\", \"number\": \"+1-949-468-2750\"}\n",
        "]\n",
        "\n",
        "#Pedimos un input que sera digitado por el usuario de el nombre a utilizar\n",
        "name = input(\"Name: \")\n",
        "\n",
        "#Por medio del ciclo for recorremos dicha lista creando una variable persona\n",
        "for person in people:\n",
        "    #Agregamos una condicion en donde si la posicion de persona en nombre es igual al input ingresado en name buscamos la posición de person del numero e imprimimos el numero encontrado\n",
        "    if person[\"name\"] == name:\n",
        "        number = person[\"number\"]\n",
        "        print(f\"Found {number}\")\n",
        "        break\n",
        "else:\n",
        "    #Si no se encuentra el nombre da como resultado not found o no encontrado\n",
        "    print(\"Not found\")"
      ],
      "metadata": {
        "colab": {
          "base_uri": "https://localhost:8080/"
        },
        "id": "Vm0obZSw1mkH",
        "outputId": "56974d74-79d6-4bf7-b5e6-2e83bc80b82f"
      },
      "execution_count": 34,
      "outputs": [
        {
          "output_type": "stream",
          "name": "stdout",
          "text": [
            "Name: David\n",
            "Found +1-617-495-1000\n"
          ]
        }
      ]
    }
  ]
}